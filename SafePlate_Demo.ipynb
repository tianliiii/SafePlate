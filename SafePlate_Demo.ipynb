{
 "cells": [
  {
   "cell_type": "code",
   "execution_count": null,
   "metadata": {},
   "outputs": [],
   "source": [
    "\n",
    "import openai\n",
    "import os\n",
    "from openai import OpenAI\n",
    "from agents import generator\n",
    "from agents import evaluator\n",
    "import gradio as gr\n",
    "import time\n",
    "import pandas as pd\n",
    "openai.api_key = os.getenv('OPENAI_API_KEY')\n"
   ]
  },
  {
   "cell_type": "code",
   "execution_count": 2,
   "metadata": {},
   "outputs": [],
   "source": [
    "# Define input components\n",
    "\n",
    "dish_name_input = gr.Textbox(\n",
    "    lines=1,\n",
    "    placeholder='Enter dish name here',\n",
    "    label='Dish Name'\n",
    ")\n",
    "\n",
    "original_recipe_input = gr.Textbox(\n",
    "    lines=15,\n",
    "    placeholder='Enter the original recipe here...(leave it empty if you do not have one)',\n",
    "    label='Original Recipe'\n",
    ")\n",
    "\n",
    "restrictions_input = gr.Textbox(\n",
    "    lines=5,\n",
    "    placeholder='Enter any dietary restrictions, allergies  or any specifications here...',\n",
    "    label='User Restrictions'\n",
    ")\n",
    "\n",
    "# Define output component\n",
    "modified_recipe_output = gr.Textbox(\n",
    "    label='New Recipe'\n",
    ")\n",
    "\n",
    "\n",
    "# Create the Gradio Interface\n",
    "app = gr.Interface(\n",
    "    fn=generator,\n",
    "    inputs=[dish_name_input, original_recipe_input, restrictions_input],\n",
    "    outputs= modified_recipe_output,\n",
    "    title='Safe Plate',\n",
    "    description='Provide a dish name or an original recipe along with your dietary restrictions. The app will generate a modified recipe that adheres to your restrictions while maintaining the original flavor.'\n",
    ")\n"
   ]
  },
  {
   "cell_type": "code",
   "execution_count": 3,
   "metadata": {},
   "outputs": [
    {
     "name": "stdout",
     "output_type": "stream",
     "text": [
      "* Running on local URL:  http://127.0.0.1:7860\n",
      "\n",
      "To create a public link, set `share=True` in `launch()`.\n"
     ]
    },
    {
     "data": {
      "text/html": [
       "<div><iframe src=\"http://127.0.0.1:7860/\" width=\"100%\" height=\"500\" allow=\"autoplay; camera; microphone; clipboard-read; clipboard-write;\" frameborder=\"0\" allowfullscreen></iframe></div>"
      ],
      "text/plain": [
       "<IPython.core.display.HTML object>"
      ]
     },
     "metadata": {},
     "output_type": "display_data"
    },
    {
     "name": "stdout",
     "output_type": "stream",
     "text": [
      "Keyboard interruption in main thread... closing server.\n"
     ]
    },
    {
     "data": {
      "text/plain": []
     },
     "execution_count": 3,
     "metadata": {},
     "output_type": "execute_result"
    }
   ],
   "source": [
    "app.launch(debug=True)\n"
   ]
  },
  {
   "cell_type": "code",
   "execution_count": 4,
   "metadata": {},
   "outputs": [],
   "source": [
    "#some test cases\n",
    "test_cases = [\n",
    "    {\n",
    "        'test_id': 1,\n",
    "        'dish_name': 'Spaghetti Carbonara',\n",
    "        'original_recipe': \"\"\"\n",
    "Spaghetti Carbonara\n",
    "\n",
    "Ingredients:\n",
    "- 200g spaghetti\n",
    "- 100g pancetta\n",
    "- 2 large eggs\n",
    "- 50g pecorino cheese\n",
    "- 50g parmesan cheese\n",
    "- Freshly ground black pepper\n",
    "- Salt\n",
    "\n",
    "Instructions:\n",
    "1. Boil water and cook spaghetti until al dente.\n",
    "2. In a bowl, beat the eggs and mix in grated cheeses.\n",
    "3. Fry pancetta until crispy.\n",
    "4. Combine spaghetti with pancetta.\n",
    "5. Remove from heat and quickly mix in egg and cheese mixture.\n",
    "6. Serve immediately with extra cheese and pepper.\n",
    "\"\"\",\n",
    "        'restrictions': '- Allergic to eggs.\\n- No pork products due to religious restrictions.'\n",
    "    },\n",
    "    {\n",
    "        'test_id': 2,\n",
    "        'dish_name': 'Chicken Alfredo',\n",
    "        'original_recipe': \"\"\"\n",
    "Chicken Alfredo\n",
    "\n",
    "Ingredients:\n",
    "- 200g fettuccine pasta\n",
    "- 2 chicken breasts\n",
    "- 1 cup heavy cream\n",
    "- 1/2 cup butter\n",
    "- 1 cup grated parmesan cheese\n",
    "- 2 cloves garlic, minced\n",
    "- Salt and pepper to taste\n",
    "- Fresh parsley for garnish\n",
    "\n",
    "Instructions:\n",
    "1. Cook pasta according to package instructions.\n",
    "2. Season chicken with salt and pepper, then cook until done. Slice into strips.\n",
    "3. In a pan, melt butter and sauté garlic.\n",
    "4. Add heavy cream and bring to a simmer.\n",
    "5. Stir in parmesan cheese until sauce thickens.\n",
    "6. Add cooked pasta and chicken to the sauce. Toss to combine.\n",
    "7. Serve garnished with fresh parsley.\n",
    "\"\"\",\n",
    "        'restrictions': '- Lactose intolerant.\\n- Gluten-free diet.'\n",
    "    },\n",
    "    {\n",
    "        'test_id': 3,\n",
    "        'dish_name': 'Beef Tacos',\n",
    "        'original_recipe': \"\"\"\n",
    "Beef Tacos\n",
    "\n",
    "Ingredients:\n",
    "- 500g ground beef\n",
    "- 1 packet taco seasoning\n",
    "- 12 taco shells\n",
    "- Lettuce, shredded\n",
    "- Cheddar cheese, shredded\n",
    "- Sour cream\n",
    "- Salsa\n",
    "- Olive oil\n",
    "\n",
    "Instructions:\n",
    "1. Heat oil in a pan and brown the ground beef.\n",
    "2. Add taco seasoning and cook according to package instructions.\n",
    "3. Warm taco shells in the oven.\n",
    "4. Assemble tacos with beef, lettuce, cheese, sour cream, and salsa.\n",
    "5. Serve immediately.\n",
    "\"\"\",\n",
    "        'restrictions': '- Vegetarian diet.\\n- Allergic to dairy products.'\n",
    "    },\n",
    "]\n"
   ]
  },
  {
   "cell_type": "code",
   "execution_count": 7,
   "metadata": {},
   "outputs": [
    {
     "name": "stdout",
     "output_type": "stream",
     "text": [
      "Processing Test Case 1: Spaghetti Carbonara\n",
      "Processing Test Case 2: Chicken Alfredo\n",
      "Processing Test Case 3: Beef Tacos\n"
     ]
    }
   ],
   "source": [
    "\n",
    "# Initialize a list to store the results\n",
    "results = []\n",
    "\n",
    "for test in test_cases:\n",
    "    test_id = test['test_id']\n",
    "    dish_name = test['dish_name']\n",
    "    original_recipe = test['original_recipe']\n",
    "    restrictions = test['restrictions']\n",
    "    \n",
    "    print(f\"Processing Test Case {test_id}: {dish_name}\")\n",
    "    \n",
    "    # Generate the modified recipe\n",
    "    modified_recipe = generator(dish_name, original_recipe, restrictions)\n",
    "    \n",
    "    # Evaluate the modified recipe\n",
    "    evaluation = evaluator(original_recipe, modified_recipe, restrictions)\n",
    "    \n",
    "    # Append the results\n",
    "    results.append({\n",
    "        'Test ID': test_id,\n",
    "        'Dish Name': dish_name,\n",
    "        'Original Recipe': original_recipe,\n",
    "        'User Restrictions': restrictions,\n",
    "        'Modified Recipe': modified_recipe,\n",
    "        'Valid': evaluation\n",
    "    })\n",
    "    \n",
    "    time.sleep(1)\n",
    "\n",
    "df_results = pd.DataFrame(results)\n",
    "\n"
   ]
  },
  {
   "cell_type": "code",
   "execution_count": 8,
   "metadata": {},
   "outputs": [
    {
     "data": {
      "text/plain": [
       "'The accuracy of the Generator is 100.00%'"
      ]
     },
     "execution_count": 8,
     "metadata": {},
     "output_type": "execute_result"
    }
   ],
   "source": [
    "def accuracy(df_results):\n",
    "    rate = df_results['Valid'].sum() / df_results.shape[0]\n",
    "    return f\"The accuracy of the Generator is {rate:.2%}\"\n",
    "accuracy(df_results)"
   ]
  }
 ],
 "metadata": {
  "kernelspec": {
   "display_name": "NLP",
   "language": "python",
   "name": "python3"
  },
  "language_info": {
   "codemirror_mode": {
    "name": "ipython",
    "version": 3
   },
   "file_extension": ".py",
   "mimetype": "text/x-python",
   "name": "python",
   "nbconvert_exporter": "python",
   "pygments_lexer": "ipython3",
   "version": "3.12.7"
  }
 },
 "nbformat": 4,
 "nbformat_minor": 2
}
